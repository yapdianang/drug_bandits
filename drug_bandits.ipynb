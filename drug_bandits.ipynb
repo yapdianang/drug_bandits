{
 "cells": [
  {
   "cell_type": "code",
   "execution_count": 130,
   "metadata": {},
   "outputs": [],
   "source": [
    "%load_ext autoreload\n",
    "%autoreload 2\n",
    "import pandas as pd\n",
    "import numpy as np\n",
    "from sklearn.linear_model import LinearRegression"
   ]
  },
  {
   "cell_type": "code",
   "execution_count": 148,
   "metadata": {},
   "outputs": [],
   "source": [
    "df = pd.read_csv('data/warfarin.csv')\n",
    "df = df.dropna(subset = ['Therapeutic Dose of Warfarin'])\n",
    "\n",
    "def get_bucket(dosage):\n",
    "    if dosage < 3:\n",
    "        return 'low'\n",
    "    elif dosage < 7:\n",
    "        return 'medium'\n",
    "    else:\n",
    "        return 'high'\n",
    "    \n",
    "df['dosage_bucket'] = (df['Therapeutic Dose of Warfarin'] / 7).apply(get_bucket)"
   ]
  },
  {
   "cell_type": "code",
   "execution_count": 159,
   "metadata": {},
   "outputs": [],
   "source": [
    "def get_accuracy(x):\n",
    "    return sum(x) / len(x)"
   ]
  },
  {
   "cell_type": "code",
   "execution_count": 161,
   "metadata": {},
   "outputs": [
    {
     "data": {
      "text/plain": [
       "0.6027496382054993"
      ]
     },
     "execution_count": 161,
     "metadata": {},
     "output_type": "execute_result"
    }
   ],
   "source": [
    "# baseline return 5\n",
    "is_medium = df['dosage_bucket'] == 'medium'\n",
    "get_accuracy(is_medium)"
   ]
  },
  {
   "cell_type": "code",
   "execution_count": 102,
   "metadata": {},
   "outputs": [],
   "source": [
    "# function to extract decade from df\n",
    "def get_decade(x):\n",
    "    if type(x) == str:\n",
    "        return int(x[:2]) // 10\n",
    "    return 0"
   ]
  },
  {
   "cell_type": "code",
   "execution_count": 163,
   "metadata": {},
   "outputs": [],
   "source": [
    "# create features for clinical baseline\n",
    "df['Bias'] = 1\n",
    "df['Age in decades'] = df['Age'].apply(get_decade)\n",
    "df['Asian'] = [1 if race == 'Asian' else 0 for race in df['Race']]\n",
    "df['Black or African American'] = [1 if race == 'Black or African American' else 0 for race in df['Race']]\n",
    "df['Missing or Mixed Race'] = [1 if race == 'Unknown' else 0 for race in df['Race']]\n",
    "df['Enzyme inducer status'] = ((df['Carbamazepine (Tegretol)'] == 1) | \\\n",
    "                               (df['Phenytoin (Dilantin)'] == 1) | (df['Rifampin or Rifampicin'] == 1)).astype(int)\n",
    "df['Amiodarone status'] = (df['Amiodarone (Cordarone)'] == 1).astype(int)\n",
    "\n",
    "features = df[['Bias', 'Age in decades', 'Height (cm)', 'Weight (kg)', 'Asian', 'Black or African American', \n",
    "               'Missing or Mixed Race','Enzyme inducer status', 'Amiodarone status']]\n",
    "# save to a csv\n",
    "df.to_csv('data/clinical_dosing_features.csv')"
   ]
  },
  {
   "cell_type": "code",
   "execution_count": 121,
   "metadata": {},
   "outputs": [
    {
     "data": {
      "text/html": [
       "<div>\n",
       "<style scoped>\n",
       "    .dataframe tbody tr th:only-of-type {\n",
       "        vertical-align: middle;\n",
       "    }\n",
       "\n",
       "    .dataframe tbody tr th {\n",
       "        vertical-align: top;\n",
       "    }\n",
       "\n",
       "    .dataframe thead th {\n",
       "        text-align: right;\n",
       "    }\n",
       "</style>\n",
       "<table border=\"1\" class=\"dataframe\">\n",
       "  <thead>\n",
       "    <tr style=\"text-align: right;\">\n",
       "      <th></th>\n",
       "      <th>Bias</th>\n",
       "      <th>Age in decades</th>\n",
       "      <th>Height (cm)</th>\n",
       "      <th>Weight (kg)</th>\n",
       "      <th>Asian</th>\n",
       "      <th>Black or African American</th>\n",
       "      <th>Missing or Mixed Race</th>\n",
       "      <th>Enzyme inducer status</th>\n",
       "      <th>Amiodarone status</th>\n",
       "    </tr>\n",
       "  </thead>\n",
       "  <tbody>\n",
       "    <tr>\n",
       "      <th>0</th>\n",
       "      <td>1</td>\n",
       "      <td>6</td>\n",
       "      <td>193.04</td>\n",
       "      <td>115.7</td>\n",
       "      <td>0</td>\n",
       "      <td>0</td>\n",
       "      <td>0</td>\n",
       "      <td>0</td>\n",
       "      <td>0</td>\n",
       "    </tr>\n",
       "    <tr>\n",
       "      <th>1</th>\n",
       "      <td>1</td>\n",
       "      <td>5</td>\n",
       "      <td>176.53</td>\n",
       "      <td>144.2</td>\n",
       "      <td>0</td>\n",
       "      <td>0</td>\n",
       "      <td>0</td>\n",
       "      <td>0</td>\n",
       "      <td>0</td>\n",
       "    </tr>\n",
       "    <tr>\n",
       "      <th>2</th>\n",
       "      <td>1</td>\n",
       "      <td>4</td>\n",
       "      <td>162.56</td>\n",
       "      <td>77.1</td>\n",
       "      <td>0</td>\n",
       "      <td>0</td>\n",
       "      <td>0</td>\n",
       "      <td>0</td>\n",
       "      <td>0</td>\n",
       "    </tr>\n",
       "    <tr>\n",
       "      <th>3</th>\n",
       "      <td>1</td>\n",
       "      <td>6</td>\n",
       "      <td>182.24</td>\n",
       "      <td>90.7</td>\n",
       "      <td>0</td>\n",
       "      <td>0</td>\n",
       "      <td>0</td>\n",
       "      <td>0</td>\n",
       "      <td>0</td>\n",
       "    </tr>\n",
       "    <tr>\n",
       "      <th>4</th>\n",
       "      <td>1</td>\n",
       "      <td>5</td>\n",
       "      <td>167.64</td>\n",
       "      <td>72.6</td>\n",
       "      <td>0</td>\n",
       "      <td>0</td>\n",
       "      <td>0</td>\n",
       "      <td>0</td>\n",
       "      <td>0</td>\n",
       "    </tr>\n",
       "  </tbody>\n",
       "</table>\n",
       "</div>"
      ],
      "text/plain": [
       "   Bias  Age in decades  Height (cm)  Weight (kg)  Asian  \\\n",
       "0     1               6       193.04        115.7      0   \n",
       "1     1               5       176.53        144.2      0   \n",
       "2     1               4       162.56         77.1      0   \n",
       "3     1               6       182.24         90.7      0   \n",
       "4     1               5       167.64         72.6      0   \n",
       "\n",
       "   Black or African American  Missing or Mixed Race  Enzyme inducer status  \\\n",
       "0                          0                      0                      0   \n",
       "1                          0                      0                      0   \n",
       "2                          0                      0                      0   \n",
       "3                          0                      0                      0   \n",
       "4                          0                      0                      0   \n",
       "\n",
       "   Amiodarone status  \n",
       "0                  0  \n",
       "1                  0  \n",
       "2                  0  \n",
       "3                  0  \n",
       "4                  0  "
      ]
     },
     "execution_count": 121,
     "metadata": {},
     "output_type": "execute_result"
    }
   ],
   "source": [
    "features.head()"
   ]
  },
  {
   "cell_type": "code",
   "execution_count": 162,
   "metadata": {},
   "outputs": [
    {
     "data": {
      "text/plain": [
       "0.5365412445730825"
      ]
     },
     "execution_count": 162,
     "metadata": {},
     "output_type": "execute_result"
    }
   ],
   "source": [
    "# run the clinical dosing predicted dosage\n",
    "beta = np.array([4.0376, -0.2546, 0.0118, 0.0134, -0.6752, 0.406, 0.0443, 1.2799, -0.5695])\n",
    "\n",
    "def get_dosage_bucket(x):\n",
    "    dosage = x.dot(beta)**2 / 7\n",
    "    return get_bucket(dosage)\n",
    "\n",
    "dosage_buckets = features.apply(get_dosage_bucket, axis=1)\n",
    "correct_dosages = dosage_buckets == df['dosage_bucket']\n",
    "get_accuracy(correct_dosages)"
   ]
  }
 ],
 "metadata": {
  "kernelspec": {
   "display_name": "Python 3",
   "language": "python",
   "name": "python3"
  },
  "language_info": {
   "codemirror_mode": {
    "name": "ipython",
    "version": 3
   },
   "file_extension": ".py",
   "mimetype": "text/x-python",
   "name": "python",
   "nbconvert_exporter": "python",
   "pygments_lexer": "ipython3",
   "version": "3.7.2"
  }
 },
 "nbformat": 4,
 "nbformat_minor": 2
}
