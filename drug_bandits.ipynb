{
 "cells": [
  {
   "cell_type": "code",
   "execution_count": 337,
   "metadata": {},
   "outputs": [
    {
     "name": "stdout",
     "output_type": "stream",
     "text": [
      "The autoreload extension is already loaded. To reload it, use:\n",
      "  %reload_ext autoreload\n"
     ]
    }
   ],
   "source": [
    "%load_ext autoreload\n",
    "%autoreload 2\n",
    "import pandas as pd\n",
    "import numpy as np\n",
    "from sklearn.linear_model import LinearRegression"
   ]
  },
  {
   "cell_type": "code",
   "execution_count": 352,
   "metadata": {},
   "outputs": [],
   "source": [
    "df = pd.read_csv('data/warfarin.csv')\n",
    "df = df.dropna(subset = ['Therapeutic Dose of Warfarin'])\n",
    "\n",
    "def get_bucket(dosage):\n",
    "    if dosage < 3:\n",
    "        return 'low'\n",
    "    elif dosage <= 7:\n",
    "        return 'medium'\n",
    "    else:\n",
    "        return 'high'\n",
    "    \n",
    "df['dosage_bucket'] = (df['Therapeutic Dose of Warfarin']/7).apply(get_bucket)"
   ]
  },
  {
   "cell_type": "code",
   "execution_count": 353,
   "metadata": {},
   "outputs": [],
   "source": [
    "def get_accuracy(correct, pred):\n",
    "    x = correct == pred\n",
    "    return sum(x) / len(x)"
   ]
  },
  {
   "cell_type": "code",
   "execution_count": 354,
   "metadata": {},
   "outputs": [
    {
     "data": {
      "text/plain": [
       "0.611794500723589"
      ]
     },
     "execution_count": 354,
     "metadata": {},
     "output_type": "execute_result"
    }
   ],
   "source": [
    "# baseline return 5, get the accuracy\n",
    "is_medium = 'medium'\n",
    "get_accuracy(df['dosage_bucket'], is_medium)"
   ]
  },
  {
   "cell_type": "code",
   "execution_count": 350,
   "metadata": {},
   "outputs": [],
   "source": [
    "# function to extract decade from df\n",
    "def get_decade(x):\n",
    "    if type(x) == str:\n",
    "        return int(x[:2]) // 10\n",
    "    return 0"
   ]
  },
  {
   "cell_type": "code",
   "execution_count": 351,
   "metadata": {},
   "outputs": [],
   "source": [
    "# create features for clinical baseline\n",
    "df = df.dropna(subset = ['Age', 'Height (cm)', \"Weight (kg)\"])\n",
    "df = df.dropna(how = 'all', \\\n",
    "            subset = ['Carbamazepine (Tegretol)', 'Phenytoin (Dilantin)', 'Rifampin or Rifampicin'])\n",
    "\n",
    "df['Bias'] = 1\n",
    "df['Age in decades'] = df['Age'].apply(get_decade)\n",
    "df['Asian'] = [1 if race == 'Asian' else 0 for race in df['Race']]\n",
    "df['Black or African American'] = [1 if race == 'Black or African American' else 0 for race in df['Race']]\n",
    "df['Missing or Mixed Race'] = [1 if race == 'Unknown' else 0 for race in df['Race']]\n",
    "df['Enzyme inducer status'] = ((df['Carbamazepine (Tegretol)'] == 1) | \\\n",
    "                               (df['Phenytoin (Dilantin)'] == 1) | (\\\n",
    "                                df['Rifampin or Rifampicin'] == 1)).astype(int)\n",
    "df['Amiodarone status'] = (df['Amiodarone (Cordarone)'] == 1).astype(int)\n",
    "\n",
    "features = df[['Bias', 'Age in decades', 'Height (cm)', 'Weight (kg)', 'Asian', 'Black or African American', \n",
    "               'Missing or Mixed Race','Enzyme inducer status', 'Amiodarone status']]\n",
    "# save to a csv\n",
    "df.to_csv('data/clinical_dosing_features.csv')"
   ]
  },
  {
   "cell_type": "code",
   "execution_count": 280,
   "metadata": {},
   "outputs": [
    {
     "data": {
      "text/plain": [
       "2130"
      ]
     },
     "execution_count": 280,
     "metadata": {},
     "output_type": "execute_result"
    }
   ],
   "source": [
    "features.head()\n",
    "len(features)"
   ]
  },
  {
   "cell_type": "code",
   "execution_count": 281,
   "metadata": {},
   "outputs": [
    {
     "data": {
      "text/plain": [
       "0.6610328638497652"
      ]
     },
     "execution_count": 281,
     "metadata": {},
     "output_type": "execute_result"
    }
   ],
   "source": [
    "# run the clinical dosing predicted dosage, get the accuracy\n",
    "beta = np.array([4.0376, -0.2546, 0.0118, 0.0134, -0.6752, 0.406, 0.0443, 1.2799, -0.5695])\n",
    "\n",
    "def get_dosage_bucket(x):\n",
    "    dosage = x.dot(beta)**2 / 7\n",
    "    return get_bucket(dosage)\n",
    "\n",
    "dosage_buckets = features.apply(get_dosage_bucket, axis=1)\n",
    "get_accuracy(df['dosage_bucket'], dosage_buckets)"
   ]
  },
  {
   "cell_type": "code",
   "execution_count": 312,
   "metadata": {},
   "outputs": [
    {
     "data": {
      "text/plain": [
       "Index(['PharmGKB Subject ID', 'Gender', 'Race', 'Ethnicity', 'Age',\n",
       "       'Height (cm)', 'Weight (kg)', 'Indication for Warfarin Treatment',\n",
       "       'Comorbidities', 'Diabetes',\n",
       "       'Congestive Heart Failure and/or Cardiomyopathy', 'Valve Replacement',\n",
       "       'Medications', 'Aspirin', 'Acetaminophen or Paracetamol (Tylenol)',\n",
       "       'Was Dose of Acetaminophen or Paracetamol (Tylenol) >1300mg/day',\n",
       "       'Simvastatin (Zocor)', 'Atorvastatin (Lipitor)', 'Fluvastatin (Lescol)',\n",
       "       'Lovastatin (Mevacor)', 'Pravastatin (Pravachol)',\n",
       "       'Rosuvastatin (Crestor)', 'Cerivastatin (Baycol)',\n",
       "       'Amiodarone (Cordarone)', 'Carbamazepine (Tegretol)',\n",
       "       'Phenytoin (Dilantin)', 'Rifampin or Rifampicin',\n",
       "       'Sulfonamide Antibiotics', 'Macrolide Antibiotics',\n",
       "       'Anti-fungal Azoles', 'Herbal Medications, Vitamins, Supplements',\n",
       "       'Target INR', 'Estimated Target INR Range Based on Indication',\n",
       "       'Subject Reached Stable Dose of Warfarin',\n",
       "       'Therapeutic Dose of Warfarin',\n",
       "       'INR on Reported Therapeutic Dose of Warfarin', 'Current Smoker',\n",
       "       'Cyp2C9 genotypes', 'Genotyped QC Cyp2C9*2', 'Genotyped QC Cyp2C9*3',\n",
       "       'Combined QC CYP2C9',\n",
       "       'VKORC1 genotype: -1639 G>A (3673); chr16:31015190; rs9923231; C/T',\n",
       "       'VKORC1 QC genotype: -1639 G>A (3673); chr16:31015190; rs9923231; C/T',\n",
       "       'VKORC1 genotype: 497T>G (5808); chr16:31013055; rs2884737; A/C',\n",
       "       'VKORC1 QC genotype: 497T>G (5808); chr16:31013055; rs2884737; A/C',\n",
       "       'VKORC1 genotype: 1173 C>T(6484); chr16:31012379; rs9934438; A/G',\n",
       "       'VKORC1 QC genotype: 1173 C>T(6484); chr16:31012379; rs9934438; A/G',\n",
       "       'VKORC1 genotype: 1542G>C (6853); chr16:31012010; rs8050894; C/G',\n",
       "       'VKORC1 QC genotype: 1542G>C (6853); chr16:31012010; rs8050894; C/G',\n",
       "       'VKORC1 genotype: 3730 G>A (9041); chr16:31009822; rs7294;  A/G',\n",
       "       'VKORC1 QC genotype: 3730 G>A (9041); chr16:31009822; rs7294;  A/G',\n",
       "       'VKORC1 genotype: 2255C>T (7566); chr16:31011297; rs2359612; A/G',\n",
       "       'VKORC1 QC genotype: 2255C>T (7566); chr16:31011297; rs2359612; A/G',\n",
       "       'VKORC1 genotype: -4451 C>A (861); Chr16:31018002; rs17880887; A/C',\n",
       "       'VKORC1 QC genotype: -4451 C>A (861); Chr16:31018002; rs17880887; A/C',\n",
       "       'CYP2C9 consensus', 'VKORC1 -1639 consensus', 'VKORC1 497 consensus',\n",
       "       'VKORC1 1173 consensus', 'VKORC1 1542 consensus',\n",
       "       'VKORC1 3730 consensus', 'VKORC1 2255 consensus',\n",
       "       'VKORC1 -4451 consensus', 'Unnamed: 63', 'Unnamed: 64', 'Unnamed: 65',\n",
       "       'Age in decades'],\n",
       "      dtype='object')"
      ]
     },
     "execution_count": 312,
     "metadata": {},
     "output_type": "execute_result"
    }
   ],
   "source": [
    "df.columns"
   ]
  },
  {
   "cell_type": "code",
   "execution_count": 407,
   "metadata": {},
   "outputs": [],
   "source": [
    "feature_list = ['Gender', 'Race', 'Ethnicity', 'Age', 'Cyp2C9 genotypes', \\\n",
    "            'VKORC1 genotype: -1639 G>A (3673); chr16:31015190; rs9923231; C/T', \\\n",
    "            'VKORC1 genotype: 497T>G (5808); chr16:31013055; rs2884737; A/C', \\\n",
    "            'VKORC1 QC genotype: 1173 C>T(6484); chr16:31012379; rs9934438; A/G', \\\n",
    "            'VKORC1 genotype: 1542G>C (6853); chr16:31012010; rs8050894; C/G', \\\n",
    "            'VKORC1 genotype: 3730 G>A (9041); chr16:31009822; rs7294;  A/G', \\\n",
    "            'VKORC1 genotype: 2255C>T (7566); chr16:31011297; rs2359612; A/G', \\\n",
    "            'VKORC1 genotype: -4451 C>A (861); Chr16:31018002; rs17880887; A/C']\n",
    "features = pd.get_dummies(df[feature_list], dummy_na=True)\n",
    "features['bias'] = 1\n",
    "features['dosage_bucket'] = df['dosage_bucket']\n"
   ]
  }
 ],
 "metadata": {
  "kernelspec": {
   "display_name": "Python 3",
   "language": "python",
   "name": "python3"
  },
  "language_info": {
   "codemirror_mode": {
    "name": "ipython",
    "version": 3
   },
   "file_extension": ".py",
   "mimetype": "text/x-python",
   "name": "python",
   "nbconvert_exporter": "python",
   "pygments_lexer": "ipython3",
   "version": "3.7.2"
  }
 },
 "nbformat": 4,
 "nbformat_minor": 2
}
