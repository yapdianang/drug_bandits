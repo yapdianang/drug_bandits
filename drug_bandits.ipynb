{
 "cells": [
  {
   "cell_type": "code",
   "execution_count": 120,
   "metadata": {},
   "outputs": [
    {
     "name": "stdout",
     "output_type": "stream",
     "text": [
      "The autoreload extension is already loaded. To reload it, use:\n",
      "  %reload_ext autoreload\n"
     ]
    }
   ],
   "source": [
    "%load_ext autoreload\n",
    "%autoreload 2\n",
    "import pandas as pd\n",
    "import numpy as np\n",
    "import matplotlib.pyplot as plt\n",
    "from sklearn.linear_model import LinearRegression\n",
    "%matplotlib inline  "
   ]
  },
  {
   "cell_type": "code",
   "execution_count": 2,
   "metadata": {},
   "outputs": [],
   "source": [
    "df = pd.read_csv('data/warfarin.csv')\n",
    "df = df.dropna(subset = ['Therapeutic Dose of Warfarin'])\n",
    "\n",
    "def get_bucket(dosage):\n",
    "    if dosage < 3:\n",
    "        return 'low'\n",
    "    elif dosage <= 7:\n",
    "        return 'medium'\n",
    "    else:\n",
    "        return 'high'\n",
    "    \n",
    "df['dosage_bucket'] = (df['Therapeutic Dose of Warfarin']/7).apply(get_bucket)"
   ]
  },
  {
   "cell_type": "code",
   "execution_count": 3,
   "metadata": {},
   "outputs": [],
   "source": [
    "def get_accuracy(correct, pred):\n",
    "    x = correct == pred\n",
    "    return sum(x) / len(x)"
   ]
  },
  {
   "cell_type": "code",
   "execution_count": 354,
   "metadata": {},
   "outputs": [
    {
     "data": {
      "text/plain": [
       "0.611794500723589"
      ]
     },
     "execution_count": 354,
     "metadata": {},
     "output_type": "execute_result"
    }
   ],
   "source": [
    "# baseline return 5, get the accuracy\n",
    "is_medium = 'medium'\n",
    "get_accuracy(df['dosage_bucket'], is_medium)"
   ]
  },
  {
   "cell_type": "code",
   "execution_count": 350,
   "metadata": {},
   "outputs": [],
   "source": [
    "# function to extract decade from df\n",
    "def get_decade(x):\n",
    "    if type(x) == str:\n",
    "        return int(x[:2]) // 10\n",
    "    return 0"
   ]
  },
  {
   "cell_type": "code",
   "execution_count": 351,
   "metadata": {},
   "outputs": [],
   "source": [
    "# create features for clinical baseline\n",
    "df = df.dropna(subset = ['Age', 'Height (cm)', \"Weight (kg)\"])\n",
    "df = df.dropna(how = 'all', \\\n",
    "            subset = ['Carbamazepine (Tegretol)', 'Phenytoin (Dilantin)', 'Rifampin or Rifampicin'])\n",
    "\n",
    "df['Bias'] = 1\n",
    "df['Age in decades'] = df['Age'].apply(get_decade)\n",
    "df['Asian'] = [1 if race == 'Asian' else 0 for race in df['Race']]\n",
    "df['Black or African American'] = [1 if race == 'Black or African American' else 0 for race in df['Race']]\n",
    "df['Missing or Mixed Race'] = [1 if race == 'Unknown' else 0 for race in df['Race']]\n",
    "df['Enzyme inducer status'] = ((df['Carbamazepine (Tegretol)'] == 1) | \\\n",
    "                               (df['Phenytoin (Dilantin)'] == 1) | (\\\n",
    "                                df['Rifampin or Rifampicin'] == 1)).astype(int)\n",
    "df['Amiodarone status'] = (df['Amiodarone (Cordarone)'] == 1).astype(int)\n",
    "\n",
    "features = df[['Bias', 'Age in decades', 'Height (cm)', 'Weight (kg)', 'Asian', 'Black or African American', \n",
    "               'Missing or Mixed Race','Enzyme inducer status', 'Amiodarone status']]\n",
    "# save to a csv\n",
    "df.to_csv('data/clinical_dosing_features.csv')"
   ]
  },
  {
   "cell_type": "code",
   "execution_count": 280,
   "metadata": {},
   "outputs": [
    {
     "data": {
      "text/plain": [
       "2130"
      ]
     },
     "execution_count": 280,
     "metadata": {},
     "output_type": "execute_result"
    }
   ],
   "source": [
    "features.head()\n",
    "len(features)"
   ]
  },
  {
   "cell_type": "code",
   "execution_count": 281,
   "metadata": {},
   "outputs": [
    {
     "data": {
      "text/plain": [
       "0.6610328638497652"
      ]
     },
     "execution_count": 281,
     "metadata": {},
     "output_type": "execute_result"
    }
   ],
   "source": [
    "# run the clinical dosing predicted dosage, get the accuracy\n",
    "beta = np.array([4.0376, -0.2546, 0.0118, 0.0134, -0.6752, 0.406, 0.0443, 1.2799, -0.5695])\n",
    "\n",
    "def get_dosage_bucket(x):\n",
    "    dosage = x.dot(beta)**2 / 7\n",
    "    return get_bucket(dosage)\n",
    "\n",
    "dosage_buckets = features.apply(get_dosage_bucket, axis=1)\n",
    "get_accuracy(df['dosage_bucket'], dosage_buckets)"
   ]
  },
  {
   "cell_type": "code",
   "execution_count": 131,
   "metadata": {},
   "outputs": [
    {
     "data": {
      "text/html": [
       "<div>\n",
       "<style scoped>\n",
       "    .dataframe tbody tr th:only-of-type {\n",
       "        vertical-align: middle;\n",
       "    }\n",
       "\n",
       "    .dataframe tbody tr th {\n",
       "        vertical-align: top;\n",
       "    }\n",
       "\n",
       "    .dataframe thead th {\n",
       "        text-align: right;\n",
       "    }\n",
       "</style>\n",
       "<table border=\"1\" class=\"dataframe\">\n",
       "  <thead>\n",
       "    <tr style=\"text-align: right;\">\n",
       "      <th></th>\n",
       "      <th>Gender_female</th>\n",
       "      <th>Gender_male</th>\n",
       "      <th>Gender_nan</th>\n",
       "      <th>Race_Asian</th>\n",
       "      <th>Race_Black or African American</th>\n",
       "      <th>Race_Unknown</th>\n",
       "      <th>Race_White</th>\n",
       "      <th>Race_nan</th>\n",
       "      <th>Ethnicity_Hispanic or Latino</th>\n",
       "      <th>Ethnicity_Unknown</th>\n",
       "      <th>...</th>\n",
       "      <th>VKORC1 genotype: -4451 C&gt;A (861); Chr16:31018002; rs17880887; A/C_C/C</th>\n",
       "      <th>VKORC1 genotype: -4451 C&gt;A (861); Chr16:31018002; rs17880887; A/C_nan</th>\n",
       "      <th>Subject Reached Stable Dose of Warfarin_0.0</th>\n",
       "      <th>Subject Reached Stable Dose of Warfarin_1.0</th>\n",
       "      <th>Subject Reached Stable Dose of Warfarin_nan</th>\n",
       "      <th>Current Smoker_0.0</th>\n",
       "      <th>Current Smoker_1.0</th>\n",
       "      <th>Current Smoker_nan</th>\n",
       "      <th>bias</th>\n",
       "      <th>dosage_bucket</th>\n",
       "    </tr>\n",
       "  </thead>\n",
       "  <tbody>\n",
       "    <tr>\n",
       "      <th>0</th>\n",
       "      <td>0</td>\n",
       "      <td>1</td>\n",
       "      <td>0</td>\n",
       "      <td>0</td>\n",
       "      <td>0</td>\n",
       "      <td>0</td>\n",
       "      <td>1</td>\n",
       "      <td>0</td>\n",
       "      <td>0</td>\n",
       "      <td>0</td>\n",
       "      <td>...</td>\n",
       "      <td>0</td>\n",
       "      <td>1</td>\n",
       "      <td>0</td>\n",
       "      <td>1</td>\n",
       "      <td>0</td>\n",
       "      <td>1</td>\n",
       "      <td>0</td>\n",
       "      <td>0</td>\n",
       "      <td>1</td>\n",
       "      <td>medium</td>\n",
       "    </tr>\n",
       "    <tr>\n",
       "      <th>1</th>\n",
       "      <td>1</td>\n",
       "      <td>0</td>\n",
       "      <td>0</td>\n",
       "      <td>0</td>\n",
       "      <td>0</td>\n",
       "      <td>0</td>\n",
       "      <td>1</td>\n",
       "      <td>0</td>\n",
       "      <td>0</td>\n",
       "      <td>0</td>\n",
       "      <td>...</td>\n",
       "      <td>0</td>\n",
       "      <td>1</td>\n",
       "      <td>0</td>\n",
       "      <td>1</td>\n",
       "      <td>0</td>\n",
       "      <td>0</td>\n",
       "      <td>1</td>\n",
       "      <td>0</td>\n",
       "      <td>1</td>\n",
       "      <td>medium</td>\n",
       "    </tr>\n",
       "    <tr>\n",
       "      <th>2</th>\n",
       "      <td>1</td>\n",
       "      <td>0</td>\n",
       "      <td>0</td>\n",
       "      <td>0</td>\n",
       "      <td>0</td>\n",
       "      <td>0</td>\n",
       "      <td>1</td>\n",
       "      <td>0</td>\n",
       "      <td>0</td>\n",
       "      <td>0</td>\n",
       "      <td>...</td>\n",
       "      <td>0</td>\n",
       "      <td>1</td>\n",
       "      <td>0</td>\n",
       "      <td>1</td>\n",
       "      <td>0</td>\n",
       "      <td>1</td>\n",
       "      <td>0</td>\n",
       "      <td>0</td>\n",
       "      <td>1</td>\n",
       "      <td>high</td>\n",
       "    </tr>\n",
       "    <tr>\n",
       "      <th>3</th>\n",
       "      <td>0</td>\n",
       "      <td>1</td>\n",
       "      <td>0</td>\n",
       "      <td>0</td>\n",
       "      <td>0</td>\n",
       "      <td>0</td>\n",
       "      <td>1</td>\n",
       "      <td>0</td>\n",
       "      <td>0</td>\n",
       "      <td>0</td>\n",
       "      <td>...</td>\n",
       "      <td>0</td>\n",
       "      <td>1</td>\n",
       "      <td>0</td>\n",
       "      <td>1</td>\n",
       "      <td>0</td>\n",
       "      <td>1</td>\n",
       "      <td>0</td>\n",
       "      <td>0</td>\n",
       "      <td>1</td>\n",
       "      <td>medium</td>\n",
       "    </tr>\n",
       "    <tr>\n",
       "      <th>4</th>\n",
       "      <td>0</td>\n",
       "      <td>1</td>\n",
       "      <td>0</td>\n",
       "      <td>0</td>\n",
       "      <td>0</td>\n",
       "      <td>0</td>\n",
       "      <td>1</td>\n",
       "      <td>0</td>\n",
       "      <td>0</td>\n",
       "      <td>0</td>\n",
       "      <td>...</td>\n",
       "      <td>0</td>\n",
       "      <td>1</td>\n",
       "      <td>0</td>\n",
       "      <td>1</td>\n",
       "      <td>0</td>\n",
       "      <td>1</td>\n",
       "      <td>0</td>\n",
       "      <td>0</td>\n",
       "      <td>1</td>\n",
       "      <td>medium</td>\n",
       "    </tr>\n",
       "  </tbody>\n",
       "</table>\n",
       "<p>5 rows × 123 columns</p>\n",
       "</div>"
      ],
      "text/plain": [
       "   Gender_female  Gender_male  Gender_nan  Race_Asian  \\\n",
       "0              0            1           0           0   \n",
       "1              1            0           0           0   \n",
       "2              1            0           0           0   \n",
       "3              0            1           0           0   \n",
       "4              0            1           0           0   \n",
       "\n",
       "   Race_Black or African American  Race_Unknown  Race_White  Race_nan  \\\n",
       "0                               0             0           1         0   \n",
       "1                               0             0           1         0   \n",
       "2                               0             0           1         0   \n",
       "3                               0             0           1         0   \n",
       "4                               0             0           1         0   \n",
       "\n",
       "   Ethnicity_Hispanic or Latino  Ethnicity_Unknown      ...        \\\n",
       "0                             0                  0      ...         \n",
       "1                             0                  0      ...         \n",
       "2                             0                  0      ...         \n",
       "3                             0                  0      ...         \n",
       "4                             0                  0      ...         \n",
       "\n",
       "   VKORC1 genotype: -4451 C>A (861); Chr16:31018002; rs17880887; A/C_C/C  \\\n",
       "0                                                  0                       \n",
       "1                                                  0                       \n",
       "2                                                  0                       \n",
       "3                                                  0                       \n",
       "4                                                  0                       \n",
       "\n",
       "   VKORC1 genotype: -4451 C>A (861); Chr16:31018002; rs17880887; A/C_nan  \\\n",
       "0                                                  1                       \n",
       "1                                                  1                       \n",
       "2                                                  1                       \n",
       "3                                                  1                       \n",
       "4                                                  1                       \n",
       "\n",
       "   Subject Reached Stable Dose of Warfarin_0.0  \\\n",
       "0                                            0   \n",
       "1                                            0   \n",
       "2                                            0   \n",
       "3                                            0   \n",
       "4                                            0   \n",
       "\n",
       "   Subject Reached Stable Dose of Warfarin_1.0  \\\n",
       "0                                            1   \n",
       "1                                            1   \n",
       "2                                            1   \n",
       "3                                            1   \n",
       "4                                            1   \n",
       "\n",
       "   Subject Reached Stable Dose of Warfarin_nan  Current Smoker_0.0  \\\n",
       "0                                            0                   1   \n",
       "1                                            0                   0   \n",
       "2                                            0                   1   \n",
       "3                                            0                   1   \n",
       "4                                            0                   1   \n",
       "\n",
       "   Current Smoker_1.0  Current Smoker_nan  bias  dosage_bucket  \n",
       "0                   0                   0     1         medium  \n",
       "1                   1                   0     1         medium  \n",
       "2                   0                   0     1           high  \n",
       "3                   0                   0     1         medium  \n",
       "4                   0                   0     1         medium  \n",
       "\n",
       "[5 rows x 123 columns]"
      ]
     },
     "execution_count": 131,
     "metadata": {},
     "output_type": "execute_result"
    }
   ],
   "source": [
    "feature_list = ['weight_bucket', 'height_bucket', 'Gender', 'Race', 'Ethnicity', 'Age', 'Cyp2C9 genotypes', \\\n",
    "            'VKORC1 genotype: -1639 G>A (3673); chr16:31015190; rs9923231; C/T', \\\n",
    "            'VKORC1 genotype: 497T>G (5808); chr16:31013055; rs2884737; A/C', \\\n",
    "            'VKORC1 QC genotype: 1173 C>T(6484); chr16:31012379; rs9934438; A/G', \\\n",
    "            'VKORC1 genotype: 1542G>C (6853); chr16:31012010; rs8050894; C/G', \\\n",
    "            'VKORC1 genotype: 3730 G>A (9041); chr16:31009822; rs7294;  A/G', \\\n",
    "            'VKORC1 genotype: 2255C>T (7566); chr16:31011297; rs2359612; A/G', \\\n",
    "            'VKORC1 genotype: -4451 C>A (861); Chr16:31018002; rs17880887; A/C', \\\n",
    "            'Carbamazepine (Tegretol)', 'Phenytoin (Dilantin)', 'Rifampin or Rifampicin', 'Amiodarone (Cordarone)',\\\n",
    "            'Target INR']\n",
    "\n",
    "feature_list = ['Gender', 'Race', 'Ethnicity', 'Age', 'Cyp2C9 genotypes', \\\n",
    "        'Aspirin', 'Acetaminophen or Paracetamol (Tylenol)',\n",
    "        'Was Dose of Acetaminophen or Paracetamol (Tylenol) >1300mg/day',\n",
    "        'Simvastatin (Zocor)', 'Atorvastatin (Lipitor)', 'Fluvastatin (Lescol)',\n",
    "        'Lovastatin (Mevacor)', 'Pravastatin (Pravachol)',\n",
    "        'Rosuvastatin (Crestor)', 'Cerivastatin (Baycol)',\n",
    "        'Amiodarone (Cordarone)', 'Carbamazepine (Tegretol)',\n",
    "        'Phenytoin (Dilantin)', 'Rifampin or Rifampicin',\n",
    "        'Sulfonamide Antibiotics', 'Macrolide Antibiotics',\n",
    "        'Anti-fungal Azoles', 'Herbal Medications, Vitamins, Supplements',\n",
    "        'VKORC1 genotype: -1639 G>A (3673); chr16:31015190; rs9923231; C/T', \\\n",
    "        'VKORC1 genotype: 497T>G (5808); chr16:31013055; rs2884737; A/C', \\\n",
    "        'VKORC1 QC genotype: 1173 C>T(6484); chr16:31012379; rs9934438; A/G', \\\n",
    "        'VKORC1 genotype: 1542G>C (6853); chr16:31012010; rs8050894; C/G', \\\n",
    "        'VKORC1 genotype: 3730 G>A (9041); chr16:31009822; rs7294;  A/G', \\\n",
    "        'VKORC1 genotype: 2255C>T (7566); chr16:31011297; rs2359612; A/G', \\\n",
    "        'VKORC1 genotype: -4451 C>A (861); Chr16:31018002; rs17880887; A/C', \\\n",
    "        'Subject Reached Stable Dose of Warfarin', 'Current Smoker']\n",
    "\n",
    "df[feature_list] = df[feature_list].astype('object')\n",
    "\n",
    "def bucket_weight(x):\n",
    "    return str((x-30)//20)\n",
    "\n",
    "def bucket_height(x):\n",
    "    return str((x-120)//10)\n",
    "\n",
    "df['weight_bucket'] = df['Weight (kg)'].apply(bucket_weight)\n",
    "df['height_bucket'] = df['Height (cm)'].apply(bucket_height)\n",
    "\n",
    "df['Target INR'] = df['Target INR'].astype('object')\n",
    "df['Amiodarone (Cordarone)'] = df['Amiodarone (Cordarone)'].astype('object')\n",
    "df['Carbamazepine (Tegretol)'] = df['Carbamazepine (Tegretol)'].astype('object')\n",
    "df['Phenytoin (Dilantin)'] = df['Phenytoin (Dilantin)'].astype('object')\n",
    "df['Rifampin or Rifampicin'] = df['Rifampin or Rifampicin'].astype('object')\n",
    "\n",
    "# feature_list = ['Gender', 'Race', 'Ethnicity', 'Age', \\\n",
    "# \t\t\t\t'Carbamazepine (Tegretol)', 'Phenytoin (Dilantin)', 'Rifampin or Rifampicin']\n",
    "features = pd.get_dummies(df[feature_list], dummy_na=True)\n",
    "features['bias'] = 1\n",
    "features['dosage_bucket'] = df['dosage_bucket']\n",
    "features.head()"
   ]
  },
  {
   "cell_type": "code",
   "execution_count": 130,
   "metadata": {},
   "outputs": [],
   "source": []
  },
  {
   "cell_type": "code",
   "execution_count": 76,
   "metadata": {},
   "outputs": [
    {
     "data": {
      "text/plain": [
       "count    5256.000000\n",
       "mean       77.846423\n",
       "std        21.958541\n",
       "min        30.000000\n",
       "25%        62.000000\n",
       "50%        75.000000\n",
       "75%        90.000000\n",
       "max       237.700000\n",
       "Name: Weight (kg), dtype: float64"
      ]
     },
     "execution_count": 76,
     "metadata": {},
     "output_type": "execute_result"
    },
    {
     "data": {
      "image/png": "[encoded data removed]",
      "text/plain": [
       "<Figure size 432x288 with 1 Axes>"
      ]
     },
     "metadata": {
      "needs_background": "light"
     },
     "output_type": "display_data"
    }
   ],
   "source": [
    "plt.hist(df['Weight (kg)'].dropna()-30)\n",
    "\n",
    "(df['Weight (kg)']).describe()\n"
   ]
  },
  {
   "cell_type": "code",
   "execution_count": 83,
   "metadata": {},
   "outputs": [
    {
     "data": {
      "text/plain": [
       "0.0    2531\n",
       "1.0     595\n",
       "Name: Diabetes, dtype: int64"
      ]
     },
     "execution_count": 83,
     "metadata": {},
     "output_type": "execute_result"
    }
   ],
   "source": [
    "df['Ethnicity'].value_counts()\n",
    "df['Race'].value_counts()\n",
    "df['Diabetes'].value_counts()"
   ]
  },
  {
   "cell_type": "code",
   "execution_count": 112,
   "metadata": {},
   "outputs": [
    {
     "data": {
      "text/plain": [
       "Current Smoker    0.1234\n",
       "real_dosage       1.0000\n",
       "Name: real_dosage, dtype: float64"
      ]
     },
     "execution_count": 112,
     "metadata": {},
     "output_type": "execute_result"
    }
   ],
   "source": [
    "feature_list = ['Current Smoker']\n",
    "c = pd.get_dummies(df[feature_list], dummy_na=True)\n",
    "c['real_dosage'] = df['Therapeutic Dose of Warfarin']\n",
    "c.corr()['real_dosage']\n"
   ]
  },
  {
   "cell_type": "code",
   "execution_count": 119,
   "metadata": {},
   "outputs": [
    {
     "data": {
      "text/plain": [
       "count    5528.000000\n",
       "mean        0.559419\n",
       "std         0.126209\n",
       "min         0.000000\n",
       "25%         0.481371\n",
       "50%         0.559419\n",
       "75%         0.636375\n",
       "max         1.000000\n",
       "Name: height, dtype: float64"
      ]
     },
     "execution_count": 119,
     "metadata": {},
     "output_type": "execute_result"
    }
   ],
   "source": [
    "def normalize_col(col):\n",
    "    mx, mn =  np.max(col), np.min(col)\n",
    "    return (col - mn) / (mx-mn)\n",
    "\n",
    "features['height'] = normalize_col(df['Height (cm)'].fillna(np.mean(df['Height (cm)'])))\n",
    "features['height'].describe()"
   ]
  },
  {
   "cell_type": "code",
   "execution_count": 87,
   "metadata": {},
   "outputs": [
    {
     "data": {
      "text/plain": [
       "Index(['PharmGKB Subject ID', 'Gender', 'Race', 'Ethnicity', 'Age',\n",
       "       'Height (cm)', 'Weight (kg)', 'Indication for Warfarin Treatment',\n",
       "       'Comorbidities', 'Diabetes',\n",
       "       'Congestive Heart Failure and/or Cardiomyopathy', 'Valve Replacement',\n",
       "       'Medications', 'Aspirin', 'Acetaminophen or Paracetamol (Tylenol)',\n",
       "       'Was Dose of Acetaminophen or Paracetamol (Tylenol) >1300mg/day',\n",
       "       'Simvastatin (Zocor)', 'Atorvastatin (Lipitor)', 'Fluvastatin (Lescol)',\n",
       "       'Lovastatin (Mevacor)', 'Pravastatin (Pravachol)',\n",
       "       'Rosuvastatin (Crestor)', 'Cerivastatin (Baycol)',\n",
       "       'Amiodarone (Cordarone)', 'Carbamazepine (Tegretol)',\n",
       "       'Phenytoin (Dilantin)', 'Rifampin or Rifampicin',\n",
       "       'Sulfonamide Antibiotics', 'Macrolide Antibiotics',\n",
       "       'Anti-fungal Azoles', 'Herbal Medications, Vitamins, Supplements',\n",
       "       'Target INR', 'Estimated Target INR Range Based on Indication',\n",
       "       'Subject Reached Stable Dose of Warfarin',\n",
       "       'Therapeutic Dose of Warfarin',\n",
       "       'INR on Reported Therapeutic Dose of Warfarin', 'Current Smoker',\n",
       "       'Cyp2C9 genotypes', 'Genotyped QC Cyp2C9*2', 'Genotyped QC Cyp2C9*3',\n",
       "       'Combined QC CYP2C9',\n",
       "       'VKORC1 genotype: -1639 G>A (3673); chr16:31015190; rs9923231; C/T',\n",
       "       'VKORC1 QC genotype: -1639 G>A (3673); chr16:31015190; rs9923231; C/T',\n",
       "       'VKORC1 genotype: 497T>G (5808); chr16:31013055; rs2884737; A/C',\n",
       "       'VKORC1 QC genotype: 497T>G (5808); chr16:31013055; rs2884737; A/C',\n",
       "       'VKORC1 genotype: 1173 C>T(6484); chr16:31012379; rs9934438; A/G',\n",
       "       'VKORC1 QC genotype: 1173 C>T(6484); chr16:31012379; rs9934438; A/G',\n",
       "       'VKORC1 genotype: 1542G>C (6853); chr16:31012010; rs8050894; C/G',\n",
       "       'VKORC1 QC genotype: 1542G>C (6853); chr16:31012010; rs8050894; C/G',\n",
       "       'VKORC1 genotype: 3730 G>A (9041); chr16:31009822; rs7294;  A/G',\n",
       "       'VKORC1 QC genotype: 3730 G>A (9041); chr16:31009822; rs7294;  A/G',\n",
       "       'VKORC1 genotype: 2255C>T (7566); chr16:31011297; rs2359612; A/G',\n",
       "       'VKORC1 QC genotype: 2255C>T (7566); chr16:31011297; rs2359612; A/G',\n",
       "       'VKORC1 genotype: -4451 C>A (861); Chr16:31018002; rs17880887; A/C',\n",
       "       'VKORC1 QC genotype: -4451 C>A (861); Chr16:31018002; rs17880887; A/C',\n",
       "       'CYP2C9 consensus', 'VKORC1 -1639 consensus', 'VKORC1 497 consensus',\n",
       "       'VKORC1 1173 consensus', 'VKORC1 1542 consensus',\n",
       "       'VKORC1 3730 consensus', 'VKORC1 2255 consensus',\n",
       "       'VKORC1 -4451 consensus', 'Unnamed: 63', 'Unnamed: 64', 'Unnamed: 65',\n",
       "       'dosage_bucket', 'weight_bucket', 'height_bucket'],\n",
       "      dtype='object')"
      ]
     },
     "execution_count": 87,
     "metadata": {},
     "output_type": "execute_result"
    }
   ],
   "source": [
    "df.columns"
   ]
  }
 ],
 "metadata": {
  "kernelspec": {
   "display_name": "Python 3",
   "language": "python",
   "name": "python3"
  },
  "language_info": {
   "codemirror_mode": {
    "name": "ipython",
    "version": 3
   },
   "file_extension": ".py",
   "mimetype": "text/x-python",
   "name": "python",
   "nbconvert_exporter": "python",
   "pygments_lexer": "ipython3",
   "version": "3.7.2"
  }
 },
 "nbformat": 4,
 "nbformat_minor": 2
}
